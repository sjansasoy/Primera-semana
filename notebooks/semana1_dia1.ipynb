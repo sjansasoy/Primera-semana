{
 "cells": [
  {
   "cell_type": "markdown",
   "id": "c4c25b85",
   "metadata": {},
   "source": [
    "\n",
    "# Semana 1 — Día 1: Fundamentos avanzados de Python\n",
    "**Objetivo:** practicar estructuras de datos, list/dict comprehensions y funciones avanzadas.\n"
   ]
  },
  {
   "cell_type": "markdown",
   "id": "5a7b5887",
   "metadata": {},
   "source": [
    "\n",
    "## Ejercicios Día 1 — Python avanzado\n",
    "Trabaja cada bloque de código y corre las celdas con **Shift + Enter**.\n"
   ]
  },
  {
   "cell_type": "code",
   "execution_count": null,
   "id": "a0669dfe",
   "metadata": {},
   "outputs": [],
   "source": [
    "\n",
    "# ⭐ Ejercicio 1: lista de cuadrados con list comprehension\n",
    "# TODO: genera los cuadrados de 1..20 en una lista llamada 'cuadrados'\n",
    "\n",
    "cuadrados = [i**2 for i in range(1, 21)]\n",
    "print(cuadrados)\n"
   ]
  },
  {
   "cell_type": "code",
   "execution_count": null,
   "id": "4dea085d",
   "metadata": {},
   "outputs": [],
   "source": [
    "\n",
    "# ⭐⭐ Ejercicio 2: diccionario de estudiantes -> promedio\n",
    "# Dado un dict de {nombre: [notas]}, calcula un dict {nombre: promedio}.\n",
    "\n",
    "notas = {\n",
    "    \"Ana\": [3.7, 4.0, 4.5],\n",
    "    \"Luis\": [2.9, 3.5, 3.8],\n",
    "    \"María\": [4.5, 4.8, 4.9],\n",
    "}\n",
    "promedios = {k: sum(v)/len(v) for k, v in notas.items()}\n",
    "print(promedios)\n"
   ]
  },
  {
   "cell_type": "code",
   "execution_count": null,
   "id": "f73edc0f",
   "metadata": {},
   "outputs": [],
   "source": [
    "\n",
    "# ⭐⭐⭐ Ejercicio 3: funciones con *args y **kwargs\n",
    "# Escribe una función 'resumen' que acepte *args numéricos y devuelva (min, max, media).\n",
    "# Además, que acepte **kwargs para imprimir etiquetas opcionales como title=\"...\"\n",
    "\n",
    "def resumen(*args, **kwargs):\n",
    "    import numpy as np\n",
    "    arr = np.array(args, dtype=float)\n",
    "    title = kwargs.get(\"title\", \"Resumen\")\n",
    "    print(title)\n",
    "    return arr.min(), arr.max(), arr.mean()\n",
    "\n",
    "print(resumen(1, 5, 9.5, 2, title=\"Estadísticos simples\"))\n"
   ]
  }
 ],
 "metadata": {},
 "nbformat": 4,
 "nbformat_minor": 5
}
